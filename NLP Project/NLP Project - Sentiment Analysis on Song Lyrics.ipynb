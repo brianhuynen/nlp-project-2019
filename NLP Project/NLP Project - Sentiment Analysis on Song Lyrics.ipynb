{
 "cells": [
  {
   "cell_type": "markdown",
   "metadata": {},
   "source": [
    "## Sentiment Analysis on Song Lyrics"
   ]
  },
  {
   "cell_type": "code",
   "execution_count": 1,
   "metadata": {},
   "outputs": [],
   "source": [
    "import nltk\n",
    "import numpy as np\n",
    "import seaborn as sns\n",
    "import pandas as pd\n",
    "import matplotlib.pyplot as plt\n",
    "\n",
    "pd.set_option(\"display.max_colwidth\", 20000)\n",
    "\n",
    "from wordcloud import WordCloud\n",
    "\n",
    "from nltk.tokenize import word_tokenize\n",
    "from nltk.text import Text"
   ]
  },
  {
   "cell_type": "markdown",
   "metadata": {},
   "source": [
    "### Data cleaning"
   ]
  },
  {
   "cell_type": "code",
   "execution_count": 2,
   "metadata": {},
   "outputs": [],
   "source": [
    "#read in data set\n",
    "songs = pd.read_csv(\".//data//lyrics.csv\", index_col=0)"
   ]
  },
  {
   "cell_type": "code",
   "execution_count": 3,
   "metadata": {},
   "outputs": [
    {
     "data": {
      "text/plain": [
       "(362237, 5)"
      ]
     },
     "execution_count": 3,
     "metadata": {},
     "output_type": "execute_result"
    }
   ],
   "source": [
    "#check dimensions\n",
    "songs.shape"
   ]
  },
  {
   "cell_type": "code",
   "execution_count": 4,
   "metadata": {},
   "outputs": [
    {
     "data": {
      "text/plain": [
       "Index(['song', 'year', 'artist', 'genre', 'lyrics'], dtype='object')"
      ]
     },
     "execution_count": 4,
     "metadata": {},
     "output_type": "execute_result"
    }
   ],
   "source": [
    "#check column names\n",
    "songs.columns"
   ]
  },
  {
   "cell_type": "code",
   "execution_count": 5,
   "metadata": {},
   "outputs": [
    {
     "data": {
      "text/plain": [
       "array(['Pop', 'Hip-Hop', 'Not Available', 'Other', 'Rock', 'Metal',\n",
       "       'Country', 'Jazz', 'Electronic', 'Folk', 'R&B', 'Indie'],\n",
       "      dtype=object)"
      ]
     },
     "execution_count": 5,
     "metadata": {},
     "output_type": "execute_result"
    }
   ],
   "source": [
    "#check different genres\n",
    "songs['genre'].unique()"
   ]
  },
  {
   "cell_type": "code",
   "execution_count": 6,
   "metadata": {},
   "outputs": [
    {
     "data": {
      "image/png": "[encoded data removed]",
      "text/plain": [
       "<Figure size 720x432 with 1 Axes>"
      ]
     },
     "metadata": {
      "needs_background": "light"
     },
     "output_type": "display_data"
    }
   ],
   "source": [
    "#drop rows without songtexts (i.e. labeled as 'instrumental')\n",
    "songsWithLyrics = songs[songs['lyrics']!='instrumental'].dropna()\n",
    "#drop rows with genre 'Not Available'\n",
    "songsWithLyrics = songs[songs['genre']!='Not Available'].dropna()\n",
    "\n",
    "#analyse the genres\n",
    "genresN = songsWithLyrics['genre'].value_counts()\n",
    "\n",
    "genresN.plot.bar(figsize=(10,6), fontsize=20, color='k')\n",
    "plt.title('Genre distribution of data set', fontsize=20)\n",
    "plt.show()"
   ]
  },
  {
   "cell_type": "code",
   "execution_count": 7,
   "metadata": {},
   "outputs": [
    {
     "data": {
      "text/plain": [
       "array(['Pop', 'Metal'], dtype=object)"
      ]
     },
     "execution_count": 7,
     "metadata": {},
     "output_type": "execute_result"
    }
   ],
   "source": [
    "#keep Pop and Metal lyrics only\n",
    "selectedSet = songsWithLyrics[songsWithLyrics['genre'].isin(['Pop', 'Metal'])]\n",
    "\n",
    "#final check\n",
    "selectedSet['genre'].unique()"
   ]
  },
  {
   "cell_type": "code",
   "execution_count": 8,
   "metadata": {},
   "outputs": [
    {
     "data": {
      "text/plain": [
       "((40466, 5), (23759, 5))"
      ]
     },
     "execution_count": 8,
     "metadata": {},
     "output_type": "execute_result"
    }
   ],
   "source": [
    "#split up into genre set\n",
    "pop = selectedSet[selectedSet['genre']=='Pop']\n",
    "metal = selectedSet[selectedSet['genre']=='Metal']\n",
    "\n",
    "pop.shape, metal.shape"
   ]
  },
  {
   "cell_type": "code",
   "execution_count": 9,
   "metadata": {},
   "outputs": [],
   "source": [
    "#Find artists with the most entries:\n",
    "pop_artists = []\n",
    "for artist, subset in pop.groupby('artist'):\n",
    "    pop_artists.append([len(subset), artist])\n",
    "pop_artists = sorted(pop_artists, reverse=True)\n",
    "\n",
    "metal_artists = []\n",
    "for artist, subset in metal.groupby('artist'):\n",
    "    metal_artists.append([len(subset), artist])\n",
    "metal_artists = sorted(metal_artists, reverse=True)\n",
    "\n",
    "#Ten artists with the most entries\n",
    "pop_artists = pop_artists[:10]\n",
    "metal_artists = metal_artists[:10]\n",
    "\n",
    "#Get artist names and sort them\n",
    "pop_set = []\n",
    "for cnt, artist in pop_artists:\n",
    "    pop_set.append(artist)\n",
    "pop_set = sorted(pop_set)\n",
    "\n",
    "metal_set = []\n",
    "for cnt, artist in metal_artists:\n",
    "    metal_set.append(artist)\n",
    "metal_set = sorted(metal_set)\n",
    "\n",
    "#pop_artists, metal_artists, pop_set, metal_set"
   ]
  },
  {
   "cell_type": "code",
   "execution_count": 10,
   "metadata": {},
   "outputs": [],
   "source": [
    "pop_final = pop[pop['artist'].isin(pop_set)]\n",
    "metal_final = metal[metal['artist'].isin(metal_set)]\n",
    "\n",
    "#pop_final.artist.unique(), metal_final.artist.unique()"
   ]
  },
  {
   "cell_type": "code",
   "execution_count": 11,
   "metadata": {},
   "outputs": [
    {
     "data": {
      "text/plain": [
       "((4245, 5), (1794, 5))"
      ]
     },
     "execution_count": 11,
     "metadata": {},
     "output_type": "execute_result"
    }
   ],
   "source": [
    "pop_final.shape, metal_final.shape"
   ]
  },
  {
   "cell_type": "code",
   "execution_count": 12,
   "metadata": {},
   "outputs": [
    {
     "data": {
      "image/png": "[encoded data removed]",
      "text/plain": [
       "<Figure size 720x432 with 1 Axes>"
      ]
     },
     "metadata": {
      "needs_background": "light"
     },
     "output_type": "display_data"
    },
    {
     "data": {
      "image/png": "[encoded data removed]",
      "text/plain": [
       "<Figure size 720x432 with 1 Axes>"
      ]
     },
     "metadata": {
      "needs_background": "light"
     },
     "output_type": "display_data"
    }
   ],
   "source": [
    "#plot data of new sets\n",
    "plot_data = pop_final['artist'].value_counts()\n",
    "plot_data.plot.bar(figsize=(10,6), fontsize=20, color='k')\n",
    "plt.title('Pop Artist Distribution After Cleaning', fontsize=20)\n",
    "plt.show()\n",
    "\n",
    "plot_data = metal_final['artist'].value_counts()\n",
    "plot_data.plot.bar(figsize=(10,6), fontsize=20, color='k')\n",
    "plt.title('Metal Artist Distribution After Cleaning', fontsize=20)\n",
    "plt.show()"
   ]
  },
  {
   "cell_type": "markdown",
   "metadata": {},
   "source": [
    "### Data Processing and Analysis\n",
    "\n",
    "Some of the processing methods have been adapted from https://kvsingh.github.io/lyrics-sentiment-analysis.html"
   ]
  },
  {
   "cell_type": "code",
   "execution_count": 13,
   "metadata": {},
   "outputs": [],
   "source": [
    "from nltk.corpus import stopwords\n",
    "from nltk.probability import FreqDist\n",
    "from nltk.sentiment.vader import SentimentIntensityAnalyzer\n",
    "\n",
    "from sklearn.feature_extraction.text import CountVectorizer\n",
    "\n",
    "#initialize stopwords\n",
    "customStopWords = [\"'s\", \"n't\", \"'m\", \"'re\", \"'ll\",\"'ve\",\"...\", \"ä±\", \"''\", '``',\\\n",
    "                  '--', \"'d\", 'el', 'la', 'na', 'ya', 'yo', 'oh', 'ca']\n",
    "stopWords = stopwords.words('english') + customStopWords"
   ]
  },
  {
   "cell_type": "markdown",
   "metadata": {},
   "source": [
    "#### Pop Music"
   ]
  },
  {
   "cell_type": "code",
   "execution_count": 14,
   "metadata": {},
   "outputs": [
    {
     "name": "stdout",
     "output_type": "stream",
     "text": [
      "The 10 most common words in the pop dataset are :\n",
      "love : 10734\n",
      "know : 6451\n",
      "got : 5532\n",
      "like : 5273\n",
      "baby : 5069\n",
      "get : 4103\n",
      "one : 3925\n",
      "see : 3913\n",
      "let : 3709\n",
      "want : 3658\n"
     ]
    }
   ],
   "source": [
    "pop_words = \"\"\n",
    "\n",
    "for lyric in pop_final.iterrows():\n",
    "    pop_words += \" \" + lyric[1]['lyrics']\n",
    "    \n",
    "pop_words = nltk.word_tokenize(pop_words.lower())\n",
    "#Remove stopwords and numeric characters\n",
    "pop_words = [ word for word in pop_words if len(word) > 1\\\n",
    "                             and not word.isnumeric()\\\n",
    "                             and word not in stopWords ]\n",
    "word_dist = FreqDist(pop_words)\n",
    "\n",
    "plot_data = []\n",
    "print(\"The 10 most common words in the pop dataset are :\")\n",
    "for word, frequency in word_dist.most_common(10):\n",
    "    print( u'{} : {}'.format( word, frequency ) )\n",
    "    plot_data.append([word, frequency])"
   ]
  },
  {
   "cell_type": "code",
   "execution_count": 15,
   "metadata": {},
   "outputs": [],
   "source": [
    "vals = []\n",
    "wrds = []\n",
    "for word, val in plot_data:\n",
    "    vals.append(val)\n",
    "    wrds.append(word)\n",
    "    \n",
    "#vals, wrds"
   ]
  },
  {
   "cell_type": "code",
   "execution_count": 16,
   "metadata": {},
   "outputs": [
    {
     "data": {
      "image/png": "[encoded data removed]",
      "text/plain": [
       "<Figure size 720x432 with 1 Axes>"
      ]
     },
     "metadata": {
      "needs_background": "light"
     },
     "output_type": "display_data"
    }
   ],
   "source": [
    "plt.figure(figsize=(10,6))\n",
    "plt.barh(np.arange(10), vals, color='k')\n",
    "plt.yticks(np.arange(10), wrds)\n",
    "plt.show()"
   ]
  },
  {
   "cell_type": "markdown",
   "metadata": {},
   "source": [
    "#### Metal Music"
   ]
  },
  {
   "cell_type": "code",
   "execution_count": 17,
   "metadata": {},
   "outputs": [
    {
     "name": "stdout",
     "output_type": "stream",
     "text": [
      "The 10 most common words in the metal dataset are :\n",
      "one : 1224\n",
      "like : 1185\n",
      "life : 997\n",
      "time : 943\n",
      "see : 856\n",
      "never : 811\n",
      "man : 761\n",
      "know : 754\n",
      "blood : 687\n",
      "take : 686\n"
     ]
    }
   ],
   "source": [
    "metal_words = \"\"\n",
    "\n",
    "for lyric in metal_final.iterrows():\n",
    "    metal_words += \" \" + lyric[1]['lyrics']\n",
    "    \n",
    "metal_words = nltk.word_tokenize(metal_words.lower())\n",
    "#Remove stopwords and numeric characters\n",
    "metal_words = [ word for word in metal_words if len(word) > 1\\\n",
    "                             and not word.isnumeric()\\\n",
    "                             and word not in stopWords ]\n",
    "word_dist = FreqDist(metal_words)\n",
    "\n",
    "plot_data = []\n",
    "print(\"The 10 most common words in the metal dataset are :\")\n",
    "for word, frequency in word_dist.most_common(10):\n",
    "    print( u'{} : {}'.format( word, frequency ) )\n",
    "    plot_data.append([word, frequency])"
   ]
  },
  {
   "cell_type": "code",
   "execution_count": 18,
   "metadata": {},
   "outputs": [],
   "source": [
    "vals = []\n",
    "wrds = []\n",
    "for word, val in plot_data:\n",
    "    vals.append(val)\n",
    "    wrds.append(word)\n",
    "    \n",
    "#vals, wrds"
   ]
  },
  {
   "cell_type": "code",
   "execution_count": 19,
   "metadata": {},
   "outputs": [
    {
     "data": {
      "image/png": "[encoded data removed]",
      "text/plain": [
       "<Figure size 720x432 with 1 Axes>"
      ]
     },
     "metadata": {
      "needs_background": "light"
     },
     "output_type": "display_data"
    }
   ],
   "source": [
    "plt.figure(figsize=(10,6))\n",
    "plt.barh(np.arange(10), vals, color='k')\n",
    "plt.yticks(np.arange(10), wrds)\n",
    "plt.show()"
   ]
  },
  {
   "cell_type": "markdown",
   "metadata": {},
   "source": [
    "### Sentiment Analysis"
   ]
  },
  {
   "cell_type": "code",
   "execution_count": 20,
   "metadata": {},
   "outputs": [],
   "source": [
    "def lyrics2flat(lyrics):\n",
    "    return lyrics.split(\"\\n\")"
   ]
  },
  {
   "cell_type": "markdown",
   "metadata": {},
   "source": [
    "#### Pop"
   ]
  },
  {
   "cell_type": "code",
   "execution_count": 30,
   "metadata": {},
   "outputs": [
    {
     "name": "stderr",
     "output_type": "stream",
     "text": [
      "[nltk_data] Downloading package vader_lexicon to\n",
      "[nltk_data]     C:\\Users\\Nightsung\\AppData\\Roaming\\nltk_data...\n",
      "[nltk_data]   Package vader_lexicon is already up-to-date!\n",
      "C:\\Users\\Nightsung\\Anaconda3\\lib\\site-packages\\ipykernel_launcher.py:7: SettingWithCopyWarning: \n",
      "A value is trying to be set on a copy of a slice from a DataFrame.\n",
      "Try using .loc[row_indexer,col_indexer] = value instead\n",
      "\n",
      "See the caveats in the documentation: http://pandas.pydata.org/pandas-docs/stable/indexing.html#indexing-view-versus-copy\n",
      "  import sys\n"
     ]
    },
    {
     "data": {
      "text/html": [
       "<div>\n",
       "<style scoped>\n",
       "    .dataframe tbody tr th:only-of-type {\n",
       "        vertical-align: middle;\n",
       "    }\n",
       "\n",
       "    .dataframe tbody tr th {\n",
       "        vertical-align: top;\n",
       "    }\n",
       "\n",
       "    .dataframe thead th {\n",
       "        text-align: right;\n",
       "    }\n",
       "</style>\n",
       "<table border=\"1\" class=\"dataframe\">\n",
       "  <thead>\n",
       "    <tr style=\"text-align: right;\">\n",
       "      <th></th>\n",
       "      <th>song</th>\n",
       "      <th>year</th>\n",
       "      <th>artist</th>\n",
       "      <th>genre</th>\n",
       "      <th>lyrics</th>\n",
       "      <th>flatlyrics</th>\n",
       "    </tr>\n",
       "    <tr>\n",
       "      <th>index</th>\n",
       "      <th></th>\n",
       "      <th></th>\n",
       "      <th></th>\n",
       "      <th></th>\n",
       "      <th></th>\n",
       "      <th></th>\n",
       "    </tr>\n",
       "  </thead>\n",
       "  <tbody>\n",
       "    <tr>\n",
       "      <th>159151</th>\n",
       "      <td>don-t-let-me-be-the-last-to-know</td>\n",
       "      <td>2009</td>\n",
       "      <td>britney-spears</td>\n",
       "      <td>Pop</td>\n",
       "      <td>My friends say you're so into me\\nAnd that you need me desperately\\nThey say you say we're so complete\\nBut I need to hear it straight from you\\nIf you want me to believe it's true\\nI've been waiting for so long it hurts\\nI want to hear you say the words, please\\nDon't, don't let me be the last to know\\nDon't hold back, just let it go\\nI need to hear you say\\nYou need me all the way\\nOh, if you love me so\\nDon't let me be the last to know\\nOoh yeah, baby\\nYour body language says so much\\nYeah, I feel it in the way you touch\\nBut 'til you say the words it's not enough\\nCome on and tell me you're in love, please\\nDon't, don't let me be the last to know\\nDon't hold back, just let it go\\nI need to hear you say\\nYou need me all the way\\nOh, if you love me so\\nDon't let me be the last to know\\nCome on baby, come on darling, ooh yeah\\nCome on, let me be the one\\nCome on now, oh yeah\\nI need to hear you say (I need to hear you say)\\nYou love me all the way (you love me all the way)\\nAnd I don't want to wait another day\\nI want to feel the way you feel\\nOh, come on\\nDon't, (don't) don't let me be the last to know (just let me be the one)\\nDon't (don't) hold back (hold back), just let it go (just let it go)\\nI need to hear you say (I need to hear you say)\\nYou need me all the way (you need me all the way)\\nSo, baby, if you love me\\nDon't let me be the last to know</td>\n",
       "      <td>[My friends say you're so into me, And that you need me desperately, They say you say we're so complete, But I need to hear it straight from you, If you want me to believe it's true, I've been waiting for so long it hurts, I want to hear you say the words, please, Don't, don't let me be the last to know, Don't hold back, just let it go, I need to hear you say, You need me all the way, Oh, if you love me so, Don't let me be the last to know, Ooh yeah, baby, Your body language says so much, Yeah, I feel it in the way you touch, But 'til you say the words it's not enough, Come on and tell me you're in love, please, Don't, don't let me be the last to know, Don't hold back, just let it go, I need to hear you say, You need me all the way, Oh, if you love me so, Don't let me be the last to know, Come on baby, come on darling, ooh yeah, Come on, let me be the one, Come on now, oh yeah, I need to hear you say (I need to hear you say), You love me all the way (you love me all the way), And I don't want to wait another day, I want to feel the way you feel, Oh, come on, Don't, (don't) don't let me be the last to know (just let me be the one), Don't (don't) hold back (hold back), just let it go (just let it go), I need to hear you say (I need to hear you say), You need me all the way (you need me all the way), So, baby, if you love me, Don't let me be the last to know]</td>\n",
       "    </tr>\n",
       "  </tbody>\n",
       "</table>\n",
       "</div>"
      ],
      "text/plain": [
       "                                    song  year          artist genre  \\\n",
       "index                                                                  \n",
       "159151  don-t-let-me-be-the-last-to-know  2009  britney-spears   Pop   \n",
       "\n",
       "                                                                                                                                                                                                                                                                                                                                                                                                                                                                                                                                                                                                                                                                                                                                                                                                                                                                                                                                                                                                                                                                                                                                                                                                                                                                                                                                                                                                                                  lyrics  \\\n",
       "index                                                                                                                                                                                                                                                                                                                                                                                                                                                                                                                                                                                                                                                                                                                                                                                                                                                                                                                                                                                                                                                                                                                                                                                                                                                                                                                                                                                                                                      \n",
       "159151  My friends say you're so into me\\nAnd that you need me desperately\\nThey say you say we're so complete\\nBut I need to hear it straight from you\\nIf you want me to believe it's true\\nI've been waiting for so long it hurts\\nI want to hear you say the words, please\\nDon't, don't let me be the last to know\\nDon't hold back, just let it go\\nI need to hear you say\\nYou need me all the way\\nOh, if you love me so\\nDon't let me be the last to know\\nOoh yeah, baby\\nYour body language says so much\\nYeah, I feel it in the way you touch\\nBut 'til you say the words it's not enough\\nCome on and tell me you're in love, please\\nDon't, don't let me be the last to know\\nDon't hold back, just let it go\\nI need to hear you say\\nYou need me all the way\\nOh, if you love me so\\nDon't let me be the last to know\\nCome on baby, come on darling, ooh yeah\\nCome on, let me be the one\\nCome on now, oh yeah\\nI need to hear you say (I need to hear you say)\\nYou love me all the way (you love me all the way)\\nAnd I don't want to wait another day\\nI want to feel the way you feel\\nOh, come on\\nDon't, (don't) don't let me be the last to know (just let me be the one)\\nDon't (don't) hold back (hold back), just let it go (just let it go)\\nI need to hear you say (I need to hear you say)\\nYou need me all the way (you need me all the way)\\nSo, baby, if you love me\\nDon't let me be the last to know   \n",
       "\n",
       "                                                                                                                                                                                                                                                                                                                                                                                                                                                                                                                                                                                                                                                                                                                                                                                                                                                                                                                                                                                                                                                                                                                                                                                                                                                                                                                                                                                                                                flatlyrics  \n",
       "index                                                                                                                                                                                                                                                                                                                                                                                                                                                                                                                                                                                                                                                                                                                                                                                                                                                                                                                                                                                                                                                                                                                                                                                                                                                                                                                                                                                                                                       \n",
       "159151  [My friends say you're so into me, And that you need me desperately, They say you say we're so complete, But I need to hear it straight from you, If you want me to believe it's true, I've been waiting for so long it hurts, I want to hear you say the words, please, Don't, don't let me be the last to know, Don't hold back, just let it go, I need to hear you say, You need me all the way, Oh, if you love me so, Don't let me be the last to know, Ooh yeah, baby, Your body language says so much, Yeah, I feel it in the way you touch, But 'til you say the words it's not enough, Come on and tell me you're in love, please, Don't, don't let me be the last to know, Don't hold back, just let it go, I need to hear you say, You need me all the way, Oh, if you love me so, Don't let me be the last to know, Come on baby, come on darling, ooh yeah, Come on, let me be the one, Come on now, oh yeah, I need to hear you say (I need to hear you say), You love me all the way (you love me all the way), And I don't want to wait another day, I want to feel the way you feel, Oh, come on, Don't, (don't) don't let me be the last to know (just let me be the one), Don't (don't) hold back (hold back), just let it go (just let it go), I need to hear you say (I need to hear you say), You need me all the way (you need me all the way), So, baby, if you love me, Don't let me be the last to know]  "
      ]
     },
     "execution_count": 30,
     "metadata": {},
     "output_type": "execute_result"
    }
   ],
   "source": [
    "###Adapted from https://kvsingh.github.io/lyrics-sentiment-analysis.html\n",
    "nltk.download('vader_lexicon')\n",
    "\n",
    "emo = pd.DataFrame(columns = ('artist', 'pos', 'neu', 'neg'))\n",
    "sia = SentimentIntensityAnalyzer()\n",
    "\n",
    "pop_final['flatlyrics'] = pop_final.lyrics.map(lyrics2flat)\n",
    "pop_final.head(1)   #test whether lyrics flattening worked"
   ]
  },
  {
   "cell_type": "code",
   "execution_count": 34,
   "metadata": {},
   "outputs": [
    {
     "name": "stdout",
     "output_type": "stream",
     "text": [
      "<class 'str'> britney-spears\n",
      "<class 'str'> bee-gees\n",
      "<class 'str'> celine-dion\n",
      "<class 'str'> dusty-springfield\n",
      "<class 'str'> gary-numan\n",
      "<class 'str'> barbra-streisand\n",
      "<class 'str'> american-idol\n",
      "<class 'str'> akon\n",
      "<class 'str'> christina-aguilera\n",
      "<class 'str'> diana-ross\n"
     ]
    },
    {
     "data": {
      "text/plain": [
       "(10, 4)"
      ]
     },
     "execution_count": 34,
     "metadata": {},
     "output_type": "execute_result"
    }
   ],
   "source": [
    "i=0\n",
    "for artist in pop_final['artist'].unique():\n",
    "    print(type(artist), artist)\n",
    "    pos = 0\n",
    "    neu = 0\n",
    "    neg = 0\n",
    "    \n",
    "    artist_set = pop_final[pop_final['artist'] == artist]\n",
    "    \n",
    "    for lyrics in artist_set['flatlyrics']:\n",
    "        for sentence in lyrics:\n",
    "            comp = sia.polarity_scores(sentence)\n",
    "            comp = comp['compound']\n",
    "            \n",
    "            if comp >= 0.5:\n",
    "                pos += 1\n",
    "            elif comp > -0.5 and comp < 0.5:\n",
    "                neu += 1\n",
    "            else:\n",
    "                neg += 1\n",
    "    \n",
    "    total = neg + neu + pos\n",
    "    percent_neg = (neg/float(total))*100\n",
    "    percent_neu = (neu/float(total))*100\n",
    "    percent_pos = (pos/float(total))*100\n",
    "    emo.loc[i] = (artist, percent_pos, percent_neu, percent_neg)\n",
    "    i+=1\n",
    "#emo.shape"
   ]
  },
  {
   "cell_type": "code",
   "execution_count": 40,
   "metadata": {},
   "outputs": [
    {
     "data": {
      "image/png": "[encoded data removed]",
      "text/plain": [
       "<Figure size 720x432 with 1 Axes>"
      ]
     },
     "metadata": {
      "needs_background": "light"
     },
     "output_type": "display_data"
    },
    {
     "data": {
      "text/html": [
       "<div>\n",
       "<style scoped>\n",
       "    .dataframe tbody tr th:only-of-type {\n",
       "        vertical-align: middle;\n",
       "    }\n",
       "\n",
       "    .dataframe tbody tr th {\n",
       "        vertical-align: top;\n",
       "    }\n",
       "\n",
       "    .dataframe thead th {\n",
       "        text-align: right;\n",
       "    }\n",
       "</style>\n",
       "<table border=\"1\" class=\"dataframe\">\n",
       "  <thead>\n",
       "    <tr style=\"text-align: right;\">\n",
       "      <th></th>\n",
       "      <th>artist</th>\n",
       "      <th>pos</th>\n",
       "      <th>neu</th>\n",
       "      <th>neg</th>\n",
       "    </tr>\n",
       "  </thead>\n",
       "  <tbody>\n",
       "    <tr>\n",
       "      <th>0</th>\n",
       "      <td>britney-spears</td>\n",
       "      <td>8.008808</td>\n",
       "      <td>88.671099</td>\n",
       "      <td>3.320093</td>\n",
       "    </tr>\n",
       "    <tr>\n",
       "      <th>1</th>\n",
       "      <td>bee-gees</td>\n",
       "      <td>13.383459</td>\n",
       "      <td>81.674877</td>\n",
       "      <td>4.941665</td>\n",
       "    </tr>\n",
       "    <tr>\n",
       "      <th>2</th>\n",
       "      <td>celine-dion</td>\n",
       "      <td>8.646436</td>\n",
       "      <td>89.605840</td>\n",
       "      <td>1.747723</td>\n",
       "    </tr>\n",
       "    <tr>\n",
       "      <th>3</th>\n",
       "      <td>dusty-springfield</td>\n",
       "      <td>13.386594</td>\n",
       "      <td>82.687062</td>\n",
       "      <td>3.926345</td>\n",
       "    </tr>\n",
       "    <tr>\n",
       "      <th>4</th>\n",
       "      <td>gary-numan</td>\n",
       "      <td>5.887522</td>\n",
       "      <td>88.766842</td>\n",
       "      <td>5.345636</td>\n",
       "    </tr>\n",
       "    <tr>\n",
       "      <th>5</th>\n",
       "      <td>barbra-streisand</td>\n",
       "      <td>13.166927</td>\n",
       "      <td>83.707748</td>\n",
       "      <td>3.125325</td>\n",
       "    </tr>\n",
       "    <tr>\n",
       "      <th>6</th>\n",
       "      <td>american-idol</td>\n",
       "      <td>13.271267</td>\n",
       "      <td>82.356700</td>\n",
       "      <td>4.372034</td>\n",
       "    </tr>\n",
       "    <tr>\n",
       "      <th>7</th>\n",
       "      <td>akon</td>\n",
       "      <td>7.520481</td>\n",
       "      <td>86.668238</td>\n",
       "      <td>5.811281</td>\n",
       "    </tr>\n",
       "    <tr>\n",
       "      <th>8</th>\n",
       "      <td>christina-aguilera</td>\n",
       "      <td>12.728858</td>\n",
       "      <td>82.460173</td>\n",
       "      <td>4.810969</td>\n",
       "    </tr>\n",
       "    <tr>\n",
       "      <th>9</th>\n",
       "      <td>diana-ross</td>\n",
       "      <td>15.692777</td>\n",
       "      <td>81.368973</td>\n",
       "      <td>2.938250</td>\n",
       "    </tr>\n",
       "  </tbody>\n",
       "</table>\n",
       "</div>"
      ],
      "text/plain": [
       "               artist        pos        neu       neg\n",
       "0      britney-spears   8.008808  88.671099  3.320093\n",
       "1            bee-gees  13.383459  81.674877  4.941665\n",
       "2         celine-dion   8.646436  89.605840  1.747723\n",
       "3   dusty-springfield  13.386594  82.687062  3.926345\n",
       "4          gary-numan   5.887522  88.766842  5.345636\n",
       "5    barbra-streisand  13.166927  83.707748  3.125325\n",
       "6       american-idol  13.271267  82.356700  4.372034\n",
       "7                akon   7.520481  86.668238  5.811281\n",
       "8  christina-aguilera  12.728858  82.460173  4.810969\n",
       "9          diana-ross  15.692777  81.368973  2.938250"
      ]
     },
     "execution_count": 40,
     "metadata": {},
     "output_type": "execute_result"
    }
   ],
   "source": [
    "emo.plot.bar(figsize=(10,6), x='artist', stacked=True)\n",
    "plt.title('Sentiment Distribution per Pop Artist')\n",
    "plt.show()\n",
    "\n",
    "emo"
   ]
  },
  {
   "cell_type": "markdown",
   "metadata": {},
   "source": [
    "#### Metal"
   ]
  },
  {
   "cell_type": "code",
   "execution_count": 41,
   "metadata": {},
   "outputs": [
    {
     "name": "stderr",
     "output_type": "stream",
     "text": [
      "C:\\Users\\Nightsung\\Anaconda3\\lib\\site-packages\\ipykernel_launcher.py:3: SettingWithCopyWarning: \n",
      "A value is trying to be set on a copy of a slice from a DataFrame.\n",
      "Try using .loc[row_indexer,col_indexer] = value instead\n",
      "\n",
      "See the caveats in the documentation: http://pandas.pydata.org/pandas-docs/stable/indexing.html#indexing-view-versus-copy\n",
      "  This is separate from the ipykernel package so we can avoid doing imports until\n"
     ]
    },
    {
     "data": {
      "text/html": [
       "<div>\n",
       "<style scoped>\n",
       "    .dataframe tbody tr th:only-of-type {\n",
       "        vertical-align: middle;\n",
       "    }\n",
       "\n",
       "    .dataframe tbody tr th {\n",
       "        vertical-align: top;\n",
       "    }\n",
       "\n",
       "    .dataframe thead th {\n",
       "        text-align: right;\n",
       "    }\n",
       "</style>\n",
       "<table border=\"1\" class=\"dataframe\">\n",
       "  <thead>\n",
       "    <tr style=\"text-align: right;\">\n",
       "      <th></th>\n",
       "      <th>song</th>\n",
       "      <th>year</th>\n",
       "      <th>artist</th>\n",
       "      <th>genre</th>\n",
       "      <th>lyrics</th>\n",
       "      <th>flatlyrics</th>\n",
       "    </tr>\n",
       "    <tr>\n",
       "      <th>index</th>\n",
       "      <th></th>\n",
       "      <th></th>\n",
       "      <th></th>\n",
       "      <th></th>\n",
       "      <th></th>\n",
       "      <th></th>\n",
       "    </tr>\n",
       "  </thead>\n",
       "  <tbody>\n",
       "    <tr>\n",
       "      <th>22210</th>\n",
       "      <td>symphonies-of-doom</td>\n",
       "      <td>2007</td>\n",
       "      <td>blind-guardian</td>\n",
       "      <td>Metal</td>\n",
       "      <td>In the dark night, they defend their missiles\\nWhere it's the night we all die\\nEnthralling power, who searches to be masters\\nThey play their game with your life\\nThe burning fire comes around, the heat is on\\nJust for this day, it's all sad blues\\nThe East sun is burning hard\\nSee, your life is short\\nSee the rainbow in the mirror\\nSee the rainbow in the sky\\nSee the desert in front of you\\nSee the desert of life\\nStanding in the cold rain, waiting for the end\\nSee the shadows of the night\\nI have told you, but now it is too late\\nThese are symphonies of doom\\nFeel the danger, this final battle\\nIt will imply us all God's agony\\nThe endless blitzes just blind your eyes shut\\nAnd blow your life out to nothingness\\nBlack shadows storming in the East, but you can't see\\nThe liec has set that power free\\nThe East sun is burning hard\\nSee, the life is short\\nSee the rainbow in the mirror\\nSee the rainbow in the sky\\nSee the desert in front of you\\nSee the desert of life\\nI'm no sinner, I'm no fool\\nI have heard these chants before\\nI have told you but now it is too late\\nThese are symphonies of doom</td>\n",
       "      <td>[In the dark night, they defend their missiles, Where it's the night we all die, Enthralling power, who searches to be masters, They play their game with your life, The burning fire comes around, the heat is on, Just for this day, it's all sad blues, The East sun is burning hard, See, your life is short, See the rainbow in the mirror, See the rainbow in the sky, See the desert in front of you, See the desert of life, Standing in the cold rain, waiting for the end, See the shadows of the night, I have told you, but now it is too late, These are symphonies of doom, Feel the danger, this final battle, It will imply us all God's agony, The endless blitzes just blind your eyes shut, And blow your life out to nothingness, Black shadows storming in the East, but you can't see, The liec has set that power free, The East sun is burning hard, See, the life is short, See the rainbow in the mirror, See the rainbow in the sky, See the desert in front of you, See the desert of life, I'm no sinner, I'm no fool, I have heard these chants before, I have told you but now it is too late, These are symphonies of doom]</td>\n",
       "    </tr>\n",
       "  </tbody>\n",
       "</table>\n",
       "</div>"
      ],
      "text/plain": [
       "                     song  year          artist  genre  \\\n",
       "index                                                    \n",
       "22210  symphonies-of-doom  2007  blind-guardian  Metal   \n",
       "\n",
       "                                                                                                                                                                                                                                                                                                                                                                                                                                                                                                                                                                                                                                                                                                                                                                                                                                                                                                                                                                                                                                                                                                                                                          lyrics  \\\n",
       "index                                                                                                                                                                                                                                                                                                                                                                                                                                                                                                                                                                                                                                                                                                                                                                                                                                                                                                                                                                                                                                                                                                                                                              \n",
       "22210  In the dark night, they defend their missiles\\nWhere it's the night we all die\\nEnthralling power, who searches to be masters\\nThey play their game with your life\\nThe burning fire comes around, the heat is on\\nJust for this day, it's all sad blues\\nThe East sun is burning hard\\nSee, your life is short\\nSee the rainbow in the mirror\\nSee the rainbow in the sky\\nSee the desert in front of you\\nSee the desert of life\\nStanding in the cold rain, waiting for the end\\nSee the shadows of the night\\nI have told you, but now it is too late\\nThese are symphonies of doom\\nFeel the danger, this final battle\\nIt will imply us all God's agony\\nThe endless blitzes just blind your eyes shut\\nAnd blow your life out to nothingness\\nBlack shadows storming in the East, but you can't see\\nThe liec has set that power free\\nThe East sun is burning hard\\nSee, the life is short\\nSee the rainbow in the mirror\\nSee the rainbow in the sky\\nSee the desert in front of you\\nSee the desert of life\\nI'm no sinner, I'm no fool\\nI have heard these chants before\\nI have told you but now it is too late\\nThese are symphonies of doom   \n",
       "\n",
       "                                                                                                                                                                                                                                                                                                                                                                                                                                                                                                                                                                                                                                                                                                                                                                                                                                                                                                                                                                                                                                                                                                                                                        flatlyrics  \n",
       "index                                                                                                                                                                                                                                                                                                                                                                                                                                                                                                                                                                                                                                                                                                                                                                                                                                                                                                                                                                                                                                                                                                                                                               \n",
       "22210  [In the dark night, they defend their missiles, Where it's the night we all die, Enthralling power, who searches to be masters, They play their game with your life, The burning fire comes around, the heat is on, Just for this day, it's all sad blues, The East sun is burning hard, See, your life is short, See the rainbow in the mirror, See the rainbow in the sky, See the desert in front of you, See the desert of life, Standing in the cold rain, waiting for the end, See the shadows of the night, I have told you, but now it is too late, These are symphonies of doom, Feel the danger, this final battle, It will imply us all God's agony, The endless blitzes just blind your eyes shut, And blow your life out to nothingness, Black shadows storming in the East, but you can't see, The liec has set that power free, The East sun is burning hard, See, the life is short, See the rainbow in the mirror, See the rainbow in the sky, See the desert in front of you, See the desert of life, I'm no sinner, I'm no fool, I have heard these chants before, I have told you but now it is too late, These are symphonies of doom]  "
      ]
     },
     "execution_count": 41,
     "metadata": {},
     "output_type": "execute_result"
    }
   ],
   "source": [
    "emo_metal = pd.DataFrame(columns = ('artist', 'pos', 'neu', 'neg'))\n",
    "\n",
    "metal_final['flatlyrics'] = metal_final.lyrics.map(lyrics2flat)\n",
    "metal_final.head(1)   #test whether lyrics flattening worked"
   ]
  },
  {
   "cell_type": "code",
   "execution_count": 42,
   "metadata": {},
   "outputs": [
    {
     "name": "stdout",
     "output_type": "stream",
     "text": [
      "<class 'str'> blind-guardian\n",
      "<class 'str'> fall\n",
      "<class 'str'> agoraphobic-nosebleed\n",
      "<class 'str'> fear-factory\n",
      "<class 'str'> annihilator\n",
      "<class 'str'> acid-drinkers\n",
      "<class 'str'> cannibal-corpse\n",
      "<class 'str'> cradle-of-filth\n",
      "<class 'str'> anthrax\n",
      "<class 'str'> bathory\n"
     ]
    },
    {
     "data": {
      "text/plain": [
       "(10, 4)"
      ]
     },
     "execution_count": 42,
     "metadata": {},
     "output_type": "execute_result"
    }
   ],
   "source": [
    "i=0\n",
    "for artist in metal_final['artist'].unique():\n",
    "    print(type(artist), artist)\n",
    "    pos = 0\n",
    "    neu = 0\n",
    "    neg = 0\n",
    "    \n",
    "    artist_set = metal_final[metal_final['artist'] == artist]\n",
    "    \n",
    "    for lyrics in artist_set['flatlyrics']:\n",
    "        for sentence in lyrics:\n",
    "            comp = sia.polarity_scores(sentence)\n",
    "            comp = comp['compound']\n",
    "            \n",
    "            if comp >= 0.5:\n",
    "                pos += 1\n",
    "            elif comp > -0.5 and comp < 0.5:\n",
    "                neu += 1\n",
    "            else:\n",
    "                neg += 1\n",
    "    \n",
    "    total = neg + neu + pos\n",
    "    percent_neg = (neg/float(total))*100\n",
    "    percent_neu = (neu/float(total))*100\n",
    "    percent_pos = (pos/float(total))*100\n",
    "    emo_metal.loc[i] = (artist, percent_pos, percent_neu, percent_neg)\n",
    "    i+=1\n",
    "emo_metal.shape"
   ]
  },
  {
   "cell_type": "code",
   "execution_count": 43,
   "metadata": {},
   "outputs": [
    {
     "data": {
      "image/png": "[encoded data removed]",
      "text/plain": [
       "<Figure size 720x432 with 1 Axes>"
      ]
     },
     "metadata": {
      "needs_background": "light"
     },
     "output_type": "display_data"
    },
    {
     "data": {
      "text/html": [
       "<div>\n",
       "<style scoped>\n",
       "    .dataframe tbody tr th:only-of-type {\n",
       "        vertical-align: middle;\n",
       "    }\n",
       "\n",
       "    .dataframe tbody tr th {\n",
       "        vertical-align: top;\n",
       "    }\n",
       "\n",
       "    .dataframe thead th {\n",
       "        text-align: right;\n",
       "    }\n",
       "</style>\n",
       "<table border=\"1\" class=\"dataframe\">\n",
       "  <thead>\n",
       "    <tr style=\"text-align: right;\">\n",
       "      <th></th>\n",
       "      <th>artist</th>\n",
       "      <th>pos</th>\n",
       "      <th>neu</th>\n",
       "      <th>neg</th>\n",
       "    </tr>\n",
       "  </thead>\n",
       "  <tbody>\n",
       "    <tr>\n",
       "      <th>0</th>\n",
       "      <td>blind-guardian</td>\n",
       "      <td>4.253952</td>\n",
       "      <td>87.893587</td>\n",
       "      <td>7.852461</td>\n",
       "    </tr>\n",
       "    <tr>\n",
       "      <th>1</th>\n",
       "      <td>fall</td>\n",
       "      <td>3.870816</td>\n",
       "      <td>90.553644</td>\n",
       "      <td>5.575540</td>\n",
       "    </tr>\n",
       "    <tr>\n",
       "      <th>2</th>\n",
       "      <td>agoraphobic-nosebleed</td>\n",
       "      <td>5.167598</td>\n",
       "      <td>75.558659</td>\n",
       "      <td>19.273743</td>\n",
       "    </tr>\n",
       "    <tr>\n",
       "      <th>3</th>\n",
       "      <td>fear-factory</td>\n",
       "      <td>3.834132</td>\n",
       "      <td>81.767035</td>\n",
       "      <td>14.398833</td>\n",
       "    </tr>\n",
       "    <tr>\n",
       "      <th>4</th>\n",
       "      <td>annihilator</td>\n",
       "      <td>5.339670</td>\n",
       "      <td>79.396142</td>\n",
       "      <td>15.264188</td>\n",
       "    </tr>\n",
       "    <tr>\n",
       "      <th>5</th>\n",
       "      <td>acid-drinkers</td>\n",
       "      <td>5.420737</td>\n",
       "      <td>83.075953</td>\n",
       "      <td>11.503309</td>\n",
       "    </tr>\n",
       "    <tr>\n",
       "      <th>6</th>\n",
       "      <td>cannibal-corpse</td>\n",
       "      <td>1.408674</td>\n",
       "      <td>72.649573</td>\n",
       "      <td>25.941754</td>\n",
       "    </tr>\n",
       "    <tr>\n",
       "      <th>7</th>\n",
       "      <td>cradle-of-filth</td>\n",
       "      <td>6.201236</td>\n",
       "      <td>82.521025</td>\n",
       "      <td>11.277738</td>\n",
       "    </tr>\n",
       "    <tr>\n",
       "      <th>8</th>\n",
       "      <td>anthrax</td>\n",
       "      <td>5.531499</td>\n",
       "      <td>81.729292</td>\n",
       "      <td>12.739209</td>\n",
       "    </tr>\n",
       "    <tr>\n",
       "      <th>9</th>\n",
       "      <td>bathory</td>\n",
       "      <td>5.862534</td>\n",
       "      <td>81.424079</td>\n",
       "      <td>12.713387</td>\n",
       "    </tr>\n",
       "  </tbody>\n",
       "</table>\n",
       "</div>"
      ],
      "text/plain": [
       "                  artist       pos        neu        neg\n",
       "0         blind-guardian  4.253952  87.893587   7.852461\n",
       "1                   fall  3.870816  90.553644   5.575540\n",
       "2  agoraphobic-nosebleed  5.167598  75.558659  19.273743\n",
       "3           fear-factory  3.834132  81.767035  14.398833\n",
       "4            annihilator  5.339670  79.396142  15.264188\n",
       "5          acid-drinkers  5.420737  83.075953  11.503309\n",
       "6        cannibal-corpse  1.408674  72.649573  25.941754\n",
       "7        cradle-of-filth  6.201236  82.521025  11.277738\n",
       "8                anthrax  5.531499  81.729292  12.739209\n",
       "9                bathory  5.862534  81.424079  12.713387"
      ]
     },
     "execution_count": 43,
     "metadata": {},
     "output_type": "execute_result"
    }
   ],
   "source": [
    "emo_metal.plot.bar(figsize=(10,6), x='artist', stacked=True)\n",
    "plt.title('Sentiment Distribution per Metal Artist')\n",
    "plt.show()\n",
    "\n",
    "emo_metal"
   ]
  }
 ],
 "metadata": {
  "kernelspec": {
   "display_name": "Python 3",
   "language": "python",
   "name": "python3"
  },
  "language_info": {
   "codemirror_mode": {
    "name": "ipython",
    "version": 3
   },
   "file_extension": ".py",
   "mimetype": "text/x-python",
   "name": "python",
   "nbconvert_exporter": "python",
   "pygments_lexer": "ipython3",
   "version": "3.7.1"
  }
 },
 "nbformat": 4,
 "nbformat_minor": 2
}
